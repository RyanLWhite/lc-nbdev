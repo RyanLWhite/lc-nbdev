{
 "cells": [
  {
   "cell_type": "code",
   "execution_count": null,
   "id": "f9c9822c-6d2e-4968-80e5-145b87231de1",
   "metadata": {},
   "outputs": [],
   "source": [
    "import random"
   ]
  },
  {
   "cell_type": "code",
   "execution_count": null,
   "id": "ea798e5b-eeec-45da-82c5-7a3c927eca08",
   "metadata": {},
   "outputs": [],
   "source": [
    "we are building intervals that contain the true midpoint."
   ]
  },
  {
   "cell_type": "code",
   "execution_count": null,
   "id": "b9431762-8bcc-4776-848d-d8ad5948c5a4",
   "metadata": {},
   "outputs": [],
   "source": [
    "lower\n",
    "\n",
    "nums_below\n",
    "\n",
    "upper\n",
    "\n",
    "nums_above"
   ]
  },
  {
   "cell_type": "code",
   "execution_count": null,
   "id": "3ae53cbd-10bd-4663-9b36-c2890db583a0",
   "metadata": {},
   "outputs": [],
   "source": [
    "l1 = [1, 3, 4, 7, 19, 26]\n",
    "l2 = [1, 3, 4, 7, 19, 26, 30]"
   ]
  },
  {
   "cell_type": "code",
   "execution_count": null,
   "id": "b7eeba08-5411-4cf7-a4b1-9c81ff9fe800",
   "metadata": {},
   "outputs": [],
   "source": [
    "l3 = [2, 5, 6, 8, 9, 10, 11, 12, 13, 14, 15, 16, 17, 18, 20, 21, 22, 23, 24, 25,27, 28, 29]"
   ]
  },
  {
   "cell_type": "code",
   "execution_count": null,
   "id": "9f2eb2a2-29dd-4f46-9086-6cf980f7ec71",
   "metadata": {},
   "outputs": [],
   "source": [
    "def split_ordered_list(ordered_list):\n",
    "    n_elements = len(ordered_list)\n",
    "    n_left = n_elements//2\n",
    "    \n",
    "    if n_elements%2 ==1:\n",
    "        left = ordered_list[:n_left]\n",
    "        right = ordered_list[n_left:]\n",
    "        mid = ordered_list[n_left]\n",
    "    else:\n",
    "        left = ordered_list[:n_left]\n",
    "        right = ordered_list[n_left:]\n",
    "        mid = (ordered_list[n_left-1] + ordered_list[n_left])/2\n",
    "\n",
    "    return (len(left), mid, len(right)), left, right"
   ]
  },
  {
   "cell_type": "code",
   "execution_count": null,
   "id": "6951db0e-cb3a-4f86-90c5-510a7ae9ef17",
   "metadata": {},
   "outputs": [
    {
     "data": {
      "text/plain": [
       "((3, 5.5, 3), [1, 3, 4], [7, 19, 26])"
      ]
     },
     "execution_count": null,
     "metadata": {},
     "output_type": "execute_result"
    }
   ],
   "source": [
    "split_ordered_list(l1)"
   ]
  },
  {
   "cell_type": "code",
   "execution_count": null,
   "id": "c04e908b-1440-4438-8c8c-cf53664e916c",
   "metadata": {},
   "outputs": [
    {
     "data": {
      "text/plain": [
       "((3, 7, 4), [1, 3, 4], [7, 19, 26, 30])"
      ]
     },
     "execution_count": null,
     "metadata": {},
     "output_type": "execute_result"
    }
   ],
   "source": [
    "split_ordered_list(l2)"
   ]
  },
  {
   "cell_type": "code",
   "execution_count": null,
   "id": "e21ecc35-f27c-44e8-a72b-318ffec9490e",
   "metadata": {},
   "outputs": [
    {
     "data": {
      "text/plain": [
       "((11, 16, 11),\n",
       " [2, 5, 6, 8, 9, 10, 11, 12, 13, 14, 15],\n",
       " [17, 18, 20, 21, 22, 23, 24, 25, 27, 28, 29])"
      ]
     },
     "execution_count": null,
     "metadata": {},
     "output_type": "execute_result"
    }
   ],
   "source": [
    "split_ordered_list(l3)"
   ]
  },
  {
   "cell_type": "code",
   "execution_count": null,
   "id": "1fd37a59-62cd-457f-b052-f1ba9e57da34",
   "metadata": {},
   "outputs": [
    {
     "data": {
      "text/plain": [
       "14"
      ]
     },
     "execution_count": null,
     "metadata": {},
     "output_type": "execute_result"
    }
   ],
   "source": [
    "(len(l1) + len(l3))//2"
   ]
  },
  {
   "cell_type": "code",
   "execution_count": null,
   "id": "8c9b8ff0-4bff-42a3-8ce0-14fc358a05a6",
   "metadata": {},
   "outputs": [],
   "source": [
    "2, smaller, larger, 11"
   ]
  },
  {
   "cell_type": "code",
   "execution_count": null,
   "id": "fd9b9a93-c713-4913-bb50-20ca336da9d6",
   "metadata": {},
   "outputs": [],
   "source": [
    "2 +/ 11, smaller, 2 +/11\n",
    "11 + 3 + 1 +x larger + 11 + y\n",
    "\n",
    "n_left smaller, n_right\n",
    "M_left larger, M_right\n",
    "\n",
    "\n",
    "n_left + M_left + x, larger, M_right, y                   n_left + M_left, M_right, \n",
    "\n",
    "n_left + X, smaller, n_right + M_right + Y   lower_bound = n_left, n_right + M_right"
   ]
  },
  {
   "cell_type": "code",
   "execution_count": null,
   "id": "45d5aa09-259b-4d2f-84bd-b2a490e2da7a",
   "metadata": {},
   "outputs": [],
   "source": [
    "elimination: either lower bound is too low, or upper bound is too high."
   ]
  },
  {
   "cell_type": "code",
   "execution_count": null,
   "id": "9ca2c396-004b-45fa-b827-1b007e38432d",
   "metadata": {},
   "outputs": [],
   "source": [
    "merged array = [1,2,3,4] and median is (2 + 3) / 2 = 2.5"
   ]
  },
  {
   "cell_type": "code",
   "execution_count": null,
   "id": "1a11a404-d93f-4924-bdf3-8b6465cc11de",
   "metadata": {},
   "outputs": [],
   "source": [
    "[1, 2, 3, 3, 3, 3, 3, 5]"
   ]
  },
  {
   "cell_type": "code",
   "execution_count": null,
   "id": "0a4f3cbe-dc1f-4960-9403-33f5f1a89db3",
   "metadata": {},
   "outputs": [],
   "source": [
    "# step zero\n",
    "(len(arr_1) + len(arr_2))//2\n",
    "(len(arr_1) + len(arr_2))//2"
   ]
  },
  {
   "cell_type": "code",
   "execution_count": null,
   "id": "dbddc12b-ad0a-4317-bd12-b87ca8da34fb",
   "metadata": {},
   "outputs": [],
   "source": [
    "a = [random.randint(0, 1000) for n in range(70)]\n",
    "b = [random.randint(0, 1000) for n in range(200)]\n",
    "a.sort()\n",
    "b.sort()"
   ]
  },
  {
   "cell_type": "code",
   "execution_count": null,
   "id": "d29d5855-fe0e-47f5-9bca-2e13d67b03a4",
   "metadata": {},
   "outputs": [
    {
     "data": {
      "text/plain": [
       "(35, 550.0, 35)"
      ]
     },
     "execution_count": null,
     "metadata": {},
     "output_type": "execute_result"
    }
   ],
   "source": [
    "counts_a, a_left, a_right = split_ordered_list(a)\n",
    "counts_a"
   ]
  },
  {
   "cell_type": "code",
   "execution_count": null,
   "id": "c39db099-f8f5-4b9e-adba-272c36cf9315",
   "metadata": {},
   "outputs": [
    {
     "data": {
      "text/plain": [
       "(100, 430.5, 100)"
      ]
     },
     "execution_count": null,
     "metadata": {},
     "output_type": "execute_result"
    }
   ],
   "source": [
    "counts_b, b_left, b_right = split_ordered_list(b)\n",
    "counts_b"
   ]
  },
  {
   "cell_type": "code",
   "execution_count": null,
   "id": "1d910319-043a-467a-8c7a-90912597bcde",
   "metadata": {},
   "outputs": [],
   "source": [
    "lower_count = 0\n",
    "upper_count = 0\n",
    "\n",
    "lower = min(counts_a[1], counts_b[1])\n",
    "upper = max(counts_a[1], counts_b[1])\n",
    "\n",
    "\n",
    "if counts_b[1] <= lower: # new lower bound\n",
    "    # can eliminate b_left since they are all less than the lower which is less than the median\n",
    "    lower = counts_b[1]\n",
    "    lower_count += counts_b[0]\n",
    "    b_i = b_right\n",
    "    \n",
    "elif counts_b[1] >= upper:\n",
    "    # can eliminate b_right since they are all greater than the upper which is less than the median\n",
    "    upper = counts_b[1]\n",
    "    upper_count += counts_b[0]\n",
    "    b_i = b_left\n",
    "\n",
    "if counts_a[1] <= lower: # new lower bound\n",
    "    # can eliminate a_left since they are all less than the lower which is less than the median\n",
    "    lower = counts_a[1]\n",
    "    lower_count += counts_a[0]\n",
    "    a_i = a_left\n",
    "\n",
    "elif counts_a[1] >= upper:\n",
    "    # can eliminate a_right since they are all greater than the upper which is less than the median\n",
    "    upper = counts_a[1]\n",
    "    upper_count += counts_a[0]\n",
    "    a_i = a_right"
   ]
  },
  {
   "cell_type": "code",
   "execution_count": null,
   "id": "871f8777-dde3-463e-819a-b164195a5733",
   "metadata": {},
   "outputs": [],
   "source": [
    "lower_count, upper_count\n",
    "a_i # len(a_i)\n",
    "b_i # len(b_i)\n",
    "lower_bound, upper_bound"
   ]
  },
  {
   "cell_type": "code",
   "execution_count": null,
   "id": "5c2befec-a5f8-4043-be10-55628325456c",
   "metadata": {},
   "outputs": [],
   "source": [
    "lower = min(counts_a[1], counts_b[1])\n",
    "upper = max(counts_a[1], counts_b[1])"
   ]
  },
  {
   "cell_type": "code",
   "execution_count": null,
   "id": "433d25d6-b4d8-407f-af6c-9e2b32fb87d6",
   "metadata": {},
   "outputs": [
    {
     "data": {
      "text/plain": [
       "457.0"
      ]
     },
     "execution_count": null,
     "metadata": {},
     "output_type": "execute_result"
    }
   ],
   "source": []
  },
  {
   "cell_type": "code",
   "execution_count": null,
   "id": "5a1e527f-433b-49b8-b665-b097957cfb7d",
   "metadata": {},
   "outputs": [
    {
     "data": {
      "text/plain": [
       "(52, 783, 18)"
      ]
     },
     "execution_count": null,
     "metadata": {},
     "output_type": "execute_result"
    }
   ],
   "source": [
    "counts_a_right, a_2_left, a_2_right = split_ordered_list(a_right)\n",
    "counts_a_right[0] + 35, counts_a_right[1], counts_a_right[2]"
   ]
  },
  {
   "cell_type": "code",
   "execution_count": null,
   "id": "67a1d750-ec67-4e80-b17a-25e1d371e765",
   "metadata": {},
   "outputs": [
    {
     "data": {
      "text/plain": [
       "(50, 305.0, 85)"
      ]
     },
     "execution_count": null,
     "metadata": {},
     "output_type": "execute_result"
    }
   ],
   "source": [
    "counts_b_left, _, b_2 = split_ordered_list(b_left)\n",
    "counts_b_left[0], counts_b_left[1], counts_b_left[2] + 35"
   ]
  },
  {
   "cell_type": "code",
   "execution_count": null,
   "id": "b0e6a3da-b505-4eb7-995b-68386dade7fd",
   "metadata": {},
   "outputs": [
    {
     "data": {
      "text/plain": [
       "(8, 606, 9)"
      ]
     },
     "execution_count": null,
     "metadata": {},
     "output_type": "execute_result"
    }
   ],
   "source": [
    "counts_a_2, a_3, _ = split_ordered_list(a_2)\n",
    "counts_a_2"
   ]
  },
  {
   "cell_type": "code",
   "execution_count": null,
   "id": "21e4df9e-d61c-4469-9b99-8de915f8192d",
   "metadata": {},
   "outputs": [
    {
     "data": {
      "text/plain": [
       "(25, 440.5, 25)"
      ]
     },
     "execution_count": null,
     "metadata": {},
     "output_type": "execute_result"
    }
   ],
   "source": [
    "counts_b_2, _, b_3 = split_ordered_list(b_2)\n",
    "counts_b_2"
   ]
  },
  {
   "cell_type": "code",
   "execution_count": null,
   "id": "413fb19a-3d93-44c4-89d2-12d00d89c0e7",
   "metadata": {},
   "outputs": [
    {
     "data": {
      "text/plain": [
       "(4, 509.0, 4)"
      ]
     },
     "execution_count": null,
     "metadata": {},
     "output_type": "execute_result"
    }
   ],
   "source": [
    "counts_a_3, a_4, _ = split_ordered_list(a_3)\n",
    "counts_a_3"
   ]
  },
  {
   "cell_type": "code",
   "execution_count": null,
   "id": "c762e94d-03ec-47db-8198-b7173717b9d9",
   "metadata": {},
   "outputs": [
    {
     "data": {
      "text/plain": [
       "(12, 500, 13)"
      ]
     },
     "execution_count": null,
     "metadata": {},
     "output_type": "execute_result"
    }
   ],
   "source": [
    "counts_b_3, _, b_4 = split_ordered_list(b_3)\n",
    "counts_b_3"
   ]
  },
  {
   "cell_type": "code",
   "execution_count": null,
   "id": "3af260c3-173f-4de1-96ee-c805c5a44ad3",
   "metadata": {},
   "outputs": [
    {
     "data": {
      "text/plain": [
       "(457.0, 558.0)"
      ]
     },
     "execution_count": null,
     "metadata": {},
     "output_type": "execute_result"
    }
   ],
   "source": [
    "lower, upper"
   ]
  },
  {
   "cell_type": "code",
   "execution_count": null,
   "id": "78e16b97-afe9-4aaf-aa04-4527b007dc96",
   "metadata": {},
   "outputs": [],
   "source": [
    "mid_a_i = counts_a_right[1]\n",
    "mid_b_i = counts_b_left[1]\n",
    "\n",
    "\n",
    "if mid_a_i > upper:\n",
    "    # all numbers known to be larger than a_right are eliminated\n",
    "    \n",
    "elif mid_a_i \n",
    "if counts_a_right[1] < lower: # not possible!!!\n",
    "    # print(\"something is wrong!!!\")\n",
    "\n",
    "if counts_b_left[1] > upper: # not possible!!!\n",
    "    # print(\"something is wrong!!!\")\n",
    "\n",
    "if counts_b_left[1] < lower:\n",
    "    # all numbers known to be left of b_left[1] are eliminated\n",
    "\n"
   ]
  },
  {
   "cell_type": "code",
   "execution_count": null,
   "id": "4e421b11-0ddb-4472-b97d-bd0ddab85024",
   "metadata": {},
   "outputs": [
    {
     "data": {
      "text/plain": [
       "19"
      ]
     },
     "execution_count": null,
     "metadata": {},
     "output_type": "execute_result"
    }
   ],
   "source": [
    "a_left[len(a_left)//2] "
   ]
  },
  {
   "cell_type": "code",
   "execution_count": null,
   "id": "f8ddd8e8-ce34-4027-b60c-f7cd483ba624",
   "metadata": {},
   "outputs": [
    {
     "data": {
      "text/plain": [
       "14"
      ]
     },
     "execution_count": null,
     "metadata": {},
     "output_type": "execute_result"
    }
   ],
   "source": [
    "b_right[len(b_right)//2] # b_right has "
   ]
  },
  {
   "cell_type": "code",
   "execution_count": null,
   "id": "7bf006e7-376c-463b-9f22-13826264854f",
   "metadata": {},
   "outputs": [],
   "source": []
  }
 ],
 "metadata": {
  "kernelspec": {
   "display_name": "python3",
   "language": "python",
   "name": "python3"
  }
 },
 "nbformat": 4,
 "nbformat_minor": 5
}
