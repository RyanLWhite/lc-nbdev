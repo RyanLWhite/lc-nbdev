{
 "cells": [
  {
   "cell_type": "code",
   "execution_count": null,
   "id": "4e249881-b55f-41f1-b450-c16447ef05eb",
   "metadata": {},
   "outputs": [],
   "source": [
    "Input: s = \"abcabcbb\"\n",
    "Output: 3\n",
    "Explanation: The answer is \"abc\", with the length of 3."
   ]
  },
  {
   "cell_type": "code",
   "execution_count": 19,
   "id": "43bd140d-544f-4f67-aed5-9d8c47e37814",
   "metadata": {},
   "outputs": [],
   "source": [
    "s = \"pwwkew\"\n",
    "s = \"awsawsaw\"\n",
    "s = \"ab cd bcd\"\n",
    "s = \"abcd def\""
   ]
  },
  {
   "cell_type": "code",
   "execution_count": 22,
   "id": "7b07c6ed-ab8d-4324-8bd4-3cca978953ee",
   "metadata": {},
   "outputs": [
    {
     "name": "stdout",
     "output_type": "stream",
     "text": [
      "a\n",
      "w\n",
      "s\n",
      "a\n",
      "[\"['a', 'w', 's']\", \"['a', 'w', 's']\", ['a', 'w']]\n",
      "w\n",
      "s\n",
      "a\n",
      "[\"['a', 'w', 's']\", \"['a', 'w', 's']\", ['a', 'w']]\n",
      "w\n"
     ]
    },
    {
     "data": {
      "text/plain": [
       "[3, 3, 2]"
      ]
     },
     "execution_count": 22,
     "metadata": {},
     "output_type": "execute_result"
    }
   ],
   "source": []
  },
  {
   "cell_type": "code",
   "execution_count": 93,
   "id": "df02f05a-1b42-4f12-b1b3-767a5c44a447",
   "metadata": {},
   "outputs": [],
   "source": [
    "class Solution:\n",
    "    def lengthOfLongestSubstring(self, s: str) -> int:\n",
    "        substring_lengths = [0] # there is always length zero string\n",
    "\n",
    "        \n",
    "        candidate_substring = []\n",
    "        for el in s:\n",
    "            if candidate_substring.count(el) > 0:\n",
    "                substring_lengths.append(len(candidate_substring))\n",
    "                \n",
    "                # remove previous instance of el from substring\n",
    "                candidate_substring = candidate_substring[candidate_substring.index(el)+1:]\n",
    "                \n",
    "            candidate_substring.append(el)\n",
    "\n",
    "        substring_lengths.append(len(candidate_substring))\n",
    "        \n",
    "        return max(substring_lengths)"
   ]
  },
  {
   "cell_type": "code",
   "execution_count": 90,
   "id": "ad6abf5b-bd34-4abe-b8b0-015435390c2f",
   "metadata": {},
   "outputs": [
    {
     "data": {
      "text/plain": [
       "1"
      ]
     },
     "execution_count": 90,
     "metadata": {},
     "output_type": "execute_result"
    }
   ],
   "source": [
    "solver = Solution()\n",
    "\n",
    "solver.lengthOfLongestSubstring(\"aaa\")"
   ]
  },
  {
   "cell_type": "code",
   "execution_count": 91,
   "id": "8f2417c5-b45e-4fff-96da-2b0426df3ca3",
   "metadata": {},
   "outputs": [
    {
     "data": {
      "text/plain": [
       "0"
      ]
     },
     "execution_count": 91,
     "metadata": {},
     "output_type": "execute_result"
    }
   ],
   "source": [
    "solver.lengthOfLongestSubstring(\"\")"
   ]
  },
  {
   "cell_type": "code",
   "execution_count": 97,
   "id": "9c552cbe-d2a9-460b-a471-04af95693899",
   "metadata": {},
   "outputs": [
    {
     "data": {
      "text/plain": [
       "2"
      ]
     },
     "execution_count": 97,
     "metadata": {},
     "output_type": "execute_result"
    }
   ],
   "source": [
    "solver.lengthOfLongestSubstring(\"aab\")"
   ]
  },
  {
   "cell_type": "code",
   "execution_count": 98,
   "id": "5e6e6322-eea5-42b4-b152-7cf1770ce7e1",
   "metadata": {},
   "outputs": [
    {
     "data": {
      "text/plain": [
       "2"
      ]
     },
     "execution_count": 98,
     "metadata": {},
     "output_type": "execute_result"
    }
   ],
   "source": [
    "solver.lengthOfLongestSubstring(\"aba\")"
   ]
  },
  {
   "cell_type": "code",
   "execution_count": 94,
   "id": "3e3608c4-45bc-4104-b1e0-6e114fcfdcb8",
   "metadata": {},
   "outputs": [
    {
     "data": {
      "text/plain": [
       "6"
      ]
     },
     "execution_count": 94,
     "metadata": {},
     "output_type": "execute_result"
    }
   ],
   "source": [
    "solver.lengthOfLongestSubstring(\"abcde \")"
   ]
  },
  {
   "cell_type": "code",
   "execution_count": 95,
   "id": "698107e8-e7d1-48f1-bc36-bf249ebae5c5",
   "metadata": {},
   "outputs": [
    {
     "data": {
      "text/plain": [
       "5"
      ]
     },
     "execution_count": 95,
     "metadata": {},
     "output_type": "execute_result"
    }
   ],
   "source": [
    "solver.lengthOfLongestSubstring(\"abcdeaa \")"
   ]
  },
  {
   "cell_type": "code",
   "execution_count": 96,
   "id": "4efc3509-6bd3-47b9-ac53-6e2d618a964c",
   "metadata": {},
   "outputs": [
    {
     "data": {
      "text/plain": [
       "7"
      ]
     },
     "execution_count": 96,
     "metadata": {},
     "output_type": "execute_result"
    }
   ],
   "source": [
    "solver.lengthOfLongestSubstring(\"abcdecfgh \")"
   ]
  },
  {
   "cell_type": "code",
   "execution_count": null,
   "id": "d7dfb557-465b-483d-b971-044ab7a255d3",
   "metadata": {},
   "outputs": [],
   "source": []
  }
 ],
 "metadata": {
  "kernelspec": {
   "display_name": "Python 3 (ipykernel)",
   "language": "python",
   "name": "python3"
  },
  "language_info": {
   "codemirror_mode": {
    "name": "ipython",
    "version": 3
   },
   "file_extension": ".py",
   "mimetype": "text/x-python",
   "name": "python",
   "nbconvert_exporter": "python",
   "pygments_lexer": "ipython3",
   "version": "3.12.9"
  }
 },
 "nbformat": 4,
 "nbformat_minor": 5
}
